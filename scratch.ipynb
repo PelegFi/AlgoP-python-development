{
 "cells": [
  {
   "cell_type": "markdown",
   "metadata": {
    "tags": []
   },
   "source": [
    "thredind tutorial : "
   ]
  },
  {
   "cell_type": "code",
   "execution_count": null,
   "metadata": {},
   "outputs": [],
   "source": [
    "import TradingApp\n",
    "\n",
    "app = TradingApp()"
   ]
  },
  {
   "cell_type": "code",
   "execution_count": null,
   "metadata": {},
   "outputs": [],
   "source": [
    "import threading\n",
    "import time\n",
    "\n",
    "def numGen():\n",
    "    for a in range(30):\n",
    "        if event.is_set():\n",
    "           break\n",
    "        else: \n",
    "            print (a)\n",
    "            time.sleep(1)\n",
    "\n",
    "event = threading.Event()\n",
    "th2= threading.Thread(target=numGen)\n",
    "\n",
    "th2.start()\n",
    "\n",
    "def helloPrint():\n",
    "    for i in range(10):\n",
    "        print(\"hello\")\n",
    "        time.sleep(1)\n",
    "\n",
    "helloPrint()\n",
    "event.set()"
   ]
  },
  {
   "cell_type": "code",
   "execution_count": null,
   "metadata": {},
   "outputs": [],
   "source": [
    "from indicators import Indicators\n",
    "\n",
    "print(Indicators.CAGR([10,29,-15,101,-99,6000,0,100,-1],9))"
   ]
  },
  {
   "cell_type": "code",
   "execution_count": 5,
   "metadata": {},
   "outputs": [
    {
     "name": "stdout",
     "output_type": "stream",
     "text": [
      "Equation of the line: y = -0.00036044102400791146 * x + -10.749933793875266\n"
     ]
    },
    {
     "data": {
      "image/png": "[encoded data removed]",
      "text/plain": [
       "<Figure size 640x480 with 1 Axes>"
      ]
     },
     "metadata": {},
     "output_type": "display_data"
    }
   ],
   "source": [
    "import pandas as pd\n",
    "import matplotlib.pyplot as plt\n",
    "import numpy as np\n",
    "\n",
    "# Sample data (replace this with your own data)\n",
    "p = np.array([8.2 * 10**-2, 5.72 * 10**-2, 3.99 * 10**-2, 2.78 * 10**-2, 1.94 * 10**-2])\n",
    "c = np.log(p / 3824)\n",
    "\n",
    "data = {'tempratue': [0, 1000, 2000, 3000, 4000],\n",
    "        'Concentration': c}\n",
    "\n",
    "# Create a DataFrame\n",
    "df = pd.DataFrame(data)\n",
    "\n",
    "# Plot the data\n",
    "plt.plot(df[\"tempratue\"], df[\"Concentration\"], marker='o', linestyle='-')\n",
    "plt.xlabel('tempratue')\n",
    "plt.ylabel('Concentration')\n",
    "plt.title('Line Plot of Categories')\n",
    "\n",
    "# Perform linear regression to get the slope\n",
    "slope, intercept = np.polyfit(df[\"tempratue\"], df[\"Concentration\"], 1)\n",
    "\n",
    "# Print the slope\n",
    "print(f\"Equation of the line: y = {slope} * x + {intercept}\")\n",
    "\n",
    "\n",
    "# Show the plot\n",
    "plt.show()\n"
   ]
  },
  {
   "cell_type": "code",
   "execution_count": 2,
   "metadata": {},
   "outputs": [
    {
     "name": "stdout",
     "output_type": "stream",
     "text": [
      "  my_custom_columns  Rows1  Rows2  Rows3  Rows4  Rows5  Rows6  Rows7  Rows8  \\\n",
      "0           column1      1      1      1      1      1      1      1      1   \n",
      "1           column2      2      2      2      2      2      2      2      2   \n",
      "2           column3      3      3      3      3      3      3      3      3   \n",
      "3           column4      4      4      4      4      4      4      4      4   \n",
      "4           column5      5      5      5      5      5      5      5      5   \n",
      "\n",
      "   Rows9  \n",
      "0      1  \n",
      "1      2  \n",
      "2      3  \n",
      "3      4  \n",
      "4      5  \n",
      "  my_custom_columns  Rows1  Rows2  Rows3  Rows4  Rows5  Rows6  Rows7  Rows8  \\\n",
      "0           column1      1      1      1      1      1      1      1      1   \n",
      "1           column2      2      2      2      2      2      2      2      2   \n",
      "2           column3      3      3      3      3      3      3      3      3   \n",
      "3           column4      4      4      4      4      4      4      4      4   \n",
      "4           column5      5      5      5      5      5      5      5      5   \n",
      "\n",
      "   Rows9  \n",
      "0      1  \n",
      "1      2  \n",
      "2      3  \n",
      "3      4  \n",
      "4      5  \n",
      "                         0        1        2        3        4\n",
      "my_custom_columns  column1  column2  column3  column4  column5\n",
      "Rows1                    1        2        3        4        5\n",
      "Rows2                    1        2        3        4        5\n",
      "Rows3                    1        2        3        4        5\n",
      "Rows4                    1        2        3        4        5\n",
      "Rows5                    1        2        3        4        5\n",
      "Rows6                    1        2        3        4        5\n",
      "Rows7                    1        2        3        4        5\n",
      "Rows8                    1        2        3        4        5\n",
      "Rows9                    1        2        3        4        5\n"
     ]
    }
   ],
   "source": [
    "import pandas as pd\n",
    "\n",
    "data = {\n",
    "    \"my_custom_columns\": [\"column1\", \"column2\", \"column3\", \"column4\", \"column5\"],\n",
    "    \"Rows1\": [1, 2, 3, 4, 5],\n",
    "    \"Rows2\": [1, 2, 3, 4, 5],\n",
    "    \"Rows3\": [1, 2, 3, 4, 5],\n",
    "    \"Rows4\": [1, 2, 3, 4, 5],\n",
    "    \"Rows5\": [1, 2, 3, 4, 5],\n",
    "    \"Rows6\": [1, 2, 3, 4, 5],\n",
    "    \"Rows7\": [1, 2, 3, 4, 5],\n",
    "    \"Rows8\": [1, 2, 3, 4, 5],\n",
    "    \"Rows9\": [1, 2, 3, 4, 5]\n",
    "}\n",
    "#turn Dictionary into data frame\n",
    "dataFrame = pd.DataFrame(data)\n",
    "print(dataFrame)\n",
    "\n",
    "# Set display options to show all rows and columns\n",
    "pd.set_option('display.max_rows', None)\n",
    "print(dataFrame)\n",
    "\n",
    "# transpose the data frame\n",
    "transposed_df = dataFrame.transpose()\n",
    "print(transposed_df)\n",
    "\n"
   ]
  },
  {
   "cell_type": "markdown",
   "metadata": {},
   "source": [
    "why in this code the app.run is have to be below the 'reqContractDetails' ? "
   ]
  },
  {
   "cell_type": "code",
   "execution_count": null,
   "metadata": {},
   "outputs": [],
   "source": [
    "from TradingApp import TradingApp\n",
    "import Utilities\n",
    "import time\n",
    "\n",
    "AlgoP=TradingApp()\n",
    "AlgoP.connect(\"127.0.0.1\", 7497, clientId=0)\n",
    "time.sleep(5)\n",
    "\n",
    "contract1 = Utilities.createContract(\"AAPL\", \"STK\", \"USD\", \"SMART\")\n",
    "AlgoP.reqContractDetails(100, contract1)\n",
    "\n",
    "AlgoP.run()"
   ]
  },
  {
   "cell_type": "code",
   "execution_count": null,
   "metadata": {},
   "outputs": [],
   "source": [
    "def start_AlgoP(self):\n",
    "        self.connect(\"127.0.0.1\", 7497, clientId=0)\n",
    "        time.sleep(5)\n",
    "\n",
    "        #running EREADER thread \n",
    "        def websocket_connection():\n",
    "            self.run()\n",
    "\n",
    "        event=threading.Event()\n",
    "        socket_thread=threading.Thread(target=websocket_connection)# creating new thread for Ereader ti recive all the messages \n",
    "        socket_thread.start()\n",
    "        time.sleep(1)"
   ]
  },
  {
   "cell_type": "code",
   "execution_count": null,
   "metadata": {},
   "outputs": [],
   "source": [
    "def create_data_frame_dict(self) -> None:\n",
    "        #taking all the data stored in the trading app object 'self.data' and turn it into a pandas dataframe for later use \n",
    "        tickers=self.data.keys()\n",
    "        data_frame_dict={}\n",
    "        for ticker in tickers:\n",
    "            data_frame_dict[ticker] = pd.DataFrame(self.data[ticker])\n",
    "            data_frame_dict[ticker].set_index(\"date\",inplace=True)\n",
    "        \n",
    "        self.data_frame_dict = data_frame_dict"
   ]
  }
 ],
 "metadata": {
  "kernelspec": {
   "display_name": "Python 3",
   "language": "python",
   "name": "python3"
  },
  "language_info": {
   "codemirror_mode": {
    "name": "ipython",
    "version": 3
   },
   "file_extension": ".py",
   "mimetype": "text/x-python",
   "name": "python",
   "nbconvert_exporter": "python",
   "pygments_lexer": "ipython3",
   "version": "3.11.4"
  }
 },
 "nbformat": 4,
 "nbformat_minor": 2
}
